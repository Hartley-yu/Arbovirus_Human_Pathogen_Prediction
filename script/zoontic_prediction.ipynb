{
 "cells": [
  {
   "cell_type": "code",
   "execution_count": 1,
   "metadata": {},
   "outputs": [],
   "source": [
    "from pathlib import Path\n",
    "import pandas as pd\n",
    "from Bio import Entrez, SeqIO\n",
    "import time\n",
    "import re\n",
    "\n",
    "Entrez.email = \"yourmail.com\""
   ]
  },
  {
   "cell_type": "code",
   "execution_count": 2,
   "metadata": {},
   "outputs": [],
   "source": [
    "data_path = Path.cwd().parent/'datas'\n",
    "\n",
    "vali_df = pd.read_csv(data_path / \"extra_vali.csv\", index_col=0)\n",
    "\n",
    "sequenceID = vali_df.index.tolist()"
   ]
  },
  {
   "cell_type": "markdown",
   "metadata": {},
   "source": [
    "# Based on the gene ID, download the corresponding fasta to a single file."
   ]
  },
  {
   "cell_type": "code",
   "execution_count": 63,
   "metadata": {},
   "outputs": [],
   "source": [
    "# This is a function that downloads multiple FASTA sequences and writes them into a single file.\n",
    "#\n",
    "# The function `download_fasta` takes two parameters:\n",
    "# 1. `sequence_ids`: A list or iterable containing IDs of the nucleotide sequences to be fetched from NCBI's Entrez database.\n",
    "# 2. `filename`: The name of the output file where the downloaded FASTA sequences will be concatenated.\n",
    "def download_fasta(sequence_ids, filename):\n",
    "    \"\"\"\n",
    "    Download mutiple FASTA sequences.\n",
    "    \n",
    "    Args:\n",
    "    sequence_ids (list): List of IDs representing the sequences to fetch from NCBI's nucleotide database.\n",
    "    filename (str): The name of the output file to which the sequences will be written.\n",
    "\n",
    "    \"\"\"\n",
    "    with open(filename, 'a') as output_file: \n",
    "        for seq_id in sequence_ids:\n",
    "            with Entrez.efetch(db='nucleotide', id=seq_id, rettype=\"fasta\", retmode=\"text\") as handle: \n",
    "                seq_data = handle.read()\n",
    "                output_file.write(seq_data)\n",
    "                output_file.write('\\n') \n",
    "                \n",
    "            time.sleep(1) "
   ]
  },
  {
   "cell_type": "code",
   "execution_count": 68,
   "metadata": {},
   "outputs": [],
   "source": [
    "# Download the corresponding sequence according to sequenceID\n",
    "download_fasta(sequenceID, data_path / \"extra_validata.fa\")"
   ]
  },
  {
   "cell_type": "markdown",
   "metadata": {},
   "source": [
    "In Linux, using seqkit delate duplicated sequences"
   ]
  },
  {
   "cell_type": "markdown",
   "metadata": {},
   "source": [
    "# Find the virus name and ID correspondence"
   ]
  },
  {
   "cell_type": "code",
   "execution_count": 4,
   "metadata": {},
   "outputs": [],
   "source": [
    "# Extract Sequence IDs and virus names.\n",
    "def parse_fasta_header(fasta_file):\n",
    "    \"\"\"\n",
    "    Parse sequence ID and virus name.\n",
    "\n",
    "    Args:\n",
    "    fasta_file (str): Path to the input FASTA file.\n",
    "\n",
    "    Returns:\n",
    "    list[tuple]: A list of tuples, where each tuple contains the parsed sequence ID and the corresponding virus name.\n",
    "\n",
    "    \"\"\"\n",
    "\n",
    "    # Initialize an empty list to store the results\n",
    "    data = []\n",
    "    \n",
    "    # Match sequence ID and virus name\n",
    "    pattern = re.compile(r'^(\\S+)\\s(.*?virus)')\n",
    "\n",
    "    for seq_record in SeqIO.parse(fasta_file, \"fasta\"):\n",
    "        header = seq_record.description\n",
    "        match = pattern.match(header)\n",
    "        if match:\n",
    "            seq_id, virus_name = match.groups()\n",
    "            data.append((seq_id, virus_name))\n",
    "        else:\n",
    "            print(f\"Cannot match header: {header}\")\n",
    "\n",
    "    return data"
   ]
  },
  {
   "cell_type": "code",
   "execution_count": 40,
   "metadata": {},
   "outputs": [
    {
     "name": "stdout",
     "output_type": "stream",
     "text": [
      "Cannot match header: MZ244241.1 MAG: Huangpi Tick Virus 1 isolate SXO334peribunya nucleocapsid protein gene, complete cds\n"
     ]
    }
   ],
   "source": [
    "# Parse the fasta file to get the virus id and name\n",
    "file_path = data_path / \"zoontic_prediction\" / \"extra_validata_rmd.fa\"\n",
    "\n",
    "data = parse_fasta_header(file_path)\n",
    "\n",
    "df = pd.DataFrame(data, columns=['SequenceID', 'Name'])"
   ]
  },
  {
   "cell_type": "code",
   "execution_count": 41,
   "metadata": {},
   "outputs": [],
   "source": [
    "# manually add the above virus names and IDs\n",
    "\n",
    "temp_data = ['MZ244241.1', 'Huangpi Tick Virus 1']\n",
    "\n",
    "new_index = len(df)\n",
    "\n",
    "df.loc[new_index] = temp_data"
   ]
  },
  {
   "cell_type": "markdown",
   "metadata": {},
   "source": [
    "# Locate the virus cds area"
   ]
  },
  {
   "cell_type": "code",
   "execution_count": 61,
   "metadata": {},
   "outputs": [],
   "source": [
    "def fetch_cds_details(seq_id):\n",
    "    \"\"\"\n",
    "    Fetch CDS (Coding Sequence) details from GenBank records.\n",
    "\n",
    "    Parameters:\n",
    "    seq_id (str): The sequence ID for which CDS details are to be fetched.\n",
    "\n",
    "    Returns:\n",
    "    list: A list of tuples containing sequence ID, start, and end positions of each CDS.\n",
    "    \n",
    "    \"\"\"\n",
    "\n",
    "    # Initialize an empty list to store details of CDS (Coding Sequences)\n",
    "    cds_details = []\n",
    "\n",
    "    # Retrieve GenBank records\n",
    "    handle = Entrez.efetch(db=\"nucleotide\", id=seq_id, rettype=\"gb\", retmode=\"text\")\n",
    "    record = SeqIO.read(handle, \"genbank\")\n",
    "    handle.close()\n",
    "\n",
    "    # Extract CDS information\n",
    "    for feature in record.features:\n",
    "        if feature.type == \"CDS\":\n",
    "            is_complement = feature.location.strand == -1\n",
    "\n",
    "            start = int(feature.location.start) + 1 # must + 1\n",
    "            end = int(feature.location.end)\n",
    "\n",
    "            cds_details.append((seq_id, start, end, is_complement))\n",
    "            \n",
    "    return cds_details"
   ]
  },
  {
   "cell_type": "code",
   "execution_count": 62,
   "metadata": {},
   "outputs": [],
   "source": [
    "# Initialize an empty list to store the CDS details for all sequences\n",
    "all_cds = []\n",
    "\n",
    "# fetch each sequence CDS details\n",
    "for seq_id in sequenceID:\n",
    "    cds_details = fetch_cds_details(seq_id)\n",
    "    all_cds.extend(cds_details)\n",
    "    \n",
    "    time.sleep(0.5)\n",
    "\n",
    "# transform to DataFrame\n",
    "cds_df = pd.DataFrame(all_cds, columns=['SequenceID', 'CodingStart', 'CodingStop', 'converse'])"
   ]
  },
  {
   "cell_type": "code",
   "execution_count": 90,
   "metadata": {},
   "outputs": [],
   "source": [
    "# Transpose the complementary chain\n",
    "cds_df.loc[cds_df['converse'], ['CodingStart', 'CodingStop']] = cds_df.loc[cds_df['converse'], ['CodingStop', 'CodingStart']].values\n",
    "\n",
    "# Changing Sequence ID\n",
    "cds_df['SequenceID'] = cds_df['SequenceID'].apply(lambda x: x if x.endswith('.1') else x + '.1')\n",
    "\n",
    "# combining name and cds data\n",
    "zoonotic_data = pd.merge(cds_df, df, on='SequenceID', how='left')\n",
    "\n",
    "cols = ['Name'] + [col for col in zoonotic_data.columns if col != 'Name']\n",
    "\n",
    "zoonotic_data = zoonotic_data[cols]\n",
    "\n",
    "zoonotic_data = zoonotic_data.drop(\"converse\", axis=1)"
   ]
  },
  {
   "cell_type": "markdown",
   "metadata": {},
   "source": [
    "Since the MK896599.1 sequence updates the sequence to MK896599.2, change it manually."
   ]
  },
  {
   "cell_type": "code",
   "execution_count": 84,
   "metadata": {},
   "outputs": [
    {
     "data": {
      "text/plain": [
       "['MK896599.1']"
      ]
     },
     "execution_count": 84,
     "metadata": {},
     "output_type": "execute_result"
    }
   ],
   "source": [
    "zoonotic_ids = zoonotic_data['SequenceID'].tolist()\n",
    "df_ids = df['SequenceID'].tolist()\n",
    "\n",
    "file_path = data_path / \"zoontic_prediction\" / \"extra_validata.fa\"\n",
    "fasta_ids = [record.id for record in SeqIO.parse(file_path, 'fasta')]\n",
    "\n",
    "\n",
    "[id for id in zoonotic_ids if id not in fasta_ids]"
   ]
  },
  {
   "cell_type": "markdown",
   "metadata": {},
   "source": [
    "changing MK896599.1 to MK896599.2"
   ]
  },
  {
   "cell_type": "code",
   "execution_count": 91,
   "metadata": {},
   "outputs": [],
   "source": [
    "zoonotic_data.loc[zoonotic_data['SequenceID'] == \"MK896599.1\", 'SequenceID'] = \"MK896599.2\"\n",
    "\n",
    "zoonotic_data.to_csv(data_path / \"zoontic_prediction\" / \"zoonotic_metadata.csv\", index=None)"
   ]
  },
  {
   "cell_type": "code",
   "execution_count": 56,
   "metadata": {},
   "outputs": [
    {
     "data": {
      "text/html": [
       "<div>\n",
       "<style scoped>\n",
       "    .dataframe tbody tr th:only-of-type {\n",
       "        vertical-align: middle;\n",
       "    }\n",
       "\n",
       "    .dataframe tbody tr th {\n",
       "        vertical-align: top;\n",
       "    }\n",
       "\n",
       "    .dataframe thead th {\n",
       "        text-align: right;\n",
       "    }\n",
       "</style>\n",
       "<table border=\"1\" class=\"dataframe\">\n",
       "  <thead>\n",
       "    <tr style=\"text-align: right;\">\n",
       "      <th></th>\n",
       "      <th>Name</th>\n",
       "      <th>SequenceID</th>\n",
       "      <th>CodingStart</th>\n",
       "      <th>CodingStop</th>\n",
       "    </tr>\n",
       "  </thead>\n",
       "  <tbody>\n",
       "    <tr>\n",
       "      <th>0</th>\n",
       "      <td>Caimito virus</td>\n",
       "      <td>NC_055408.1</td>\n",
       "      <td>70</td>\n",
       "      <td>804</td>\n",
       "    </tr>\n",
       "    <tr>\n",
       "      <th>1</th>\n",
       "      <td>Caimito virus</td>\n",
       "      <td>NC_055410.1</td>\n",
       "      <td>53</td>\n",
       "      <td>4429</td>\n",
       "    </tr>\n",
       "    <tr>\n",
       "      <th>2</th>\n",
       "      <td>Caimito virus</td>\n",
       "      <td>NC_055409.1</td>\n",
       "      <td>57</td>\n",
       "      <td>6731</td>\n",
       "    </tr>\n",
       "    <tr>\n",
       "      <th>3</th>\n",
       "      <td>Estero Real orthobunyavirus</td>\n",
       "      <td>NC_055216.1</td>\n",
       "      <td>61</td>\n",
       "      <td>4269</td>\n",
       "    </tr>\n",
       "    <tr>\n",
       "      <th>4</th>\n",
       "      <td>Estero Real orthobunyavirus</td>\n",
       "      <td>NC_055217.1</td>\n",
       "      <td>12</td>\n",
       "      <td>11789</td>\n",
       "    </tr>\n",
       "    <tr>\n",
       "      <th>...</th>\n",
       "      <td>...</td>\n",
       "      <td>...</td>\n",
       "      <td>...</td>\n",
       "      <td>...</td>\n",
       "    </tr>\n",
       "    <tr>\n",
       "      <th>280</th>\n",
       "      <td>Ebinur lake virus</td>\n",
       "      <td>NC_079005.1</td>\n",
       "      <td>86</td>\n",
       "      <td>787</td>\n",
       "    </tr>\n",
       "    <tr>\n",
       "      <th>281</th>\n",
       "      <td>Ebinur lake virus</td>\n",
       "      <td>OR861624.1</td>\n",
       "      <td>1</td>\n",
       "      <td>2208</td>\n",
       "    </tr>\n",
       "    <tr>\n",
       "      <th>282</th>\n",
       "      <td>Ebinur lake virus</td>\n",
       "      <td>KJ710423.1</td>\n",
       "      <td>53</td>\n",
       "      <td>4360</td>\n",
       "    </tr>\n",
       "    <tr>\n",
       "      <th>283</th>\n",
       "      <td>Ebinur lake virus</td>\n",
       "      <td>KJ710424.1</td>\n",
       "      <td>86</td>\n",
       "      <td>787</td>\n",
       "    </tr>\n",
       "    <tr>\n",
       "      <th>284</th>\n",
       "      <td>Ebinur lake virus</td>\n",
       "      <td>KJ710425.1</td>\n",
       "      <td>47</td>\n",
       "      <td>6763</td>\n",
       "    </tr>\n",
       "  </tbody>\n",
       "</table>\n",
       "<p>285 rows × 4 columns</p>\n",
       "</div>"
      ],
      "text/plain": [
       "                            Name   SequenceID  CodingStart  CodingStop\n",
       "0                  Caimito virus  NC_055408.1           70         804\n",
       "1                  Caimito virus  NC_055410.1           53        4429\n",
       "2                  Caimito virus  NC_055409.1           57        6731\n",
       "3    Estero Real orthobunyavirus  NC_055216.1           61        4269\n",
       "4    Estero Real orthobunyavirus  NC_055217.1           12       11789\n",
       "..                           ...          ...          ...         ...\n",
       "280            Ebinur lake virus  NC_079005.1           86         787\n",
       "281            Ebinur lake virus   OR861624.1            1        2208\n",
       "282            Ebinur lake virus   KJ710423.1           53        4360\n",
       "283            Ebinur lake virus   KJ710424.1           86         787\n",
       "284            Ebinur lake virus   KJ710425.1           47        6763\n",
       "\n",
       "[285 rows x 4 columns]"
      ]
     },
     "execution_count": 56,
     "metadata": {},
     "output_type": "execute_result"
    }
   ],
   "source": [
    "zoonotic_data"
   ]
  }
 ],
 "metadata": {
  "kernelspec": {
   "display_name": "pydata-book",
   "language": "python",
   "name": "python3"
  },
  "language_info": {
   "codemirror_mode": {
    "name": "ipython",
    "version": 3
   },
   "file_extension": ".py",
   "mimetype": "text/x-python",
   "name": "python",
   "nbconvert_exporter": "python",
   "pygments_lexer": "ipython3",
   "version": "3.10.11"
  }
 },
 "nbformat": 4,
 "nbformat_minor": 2
}
