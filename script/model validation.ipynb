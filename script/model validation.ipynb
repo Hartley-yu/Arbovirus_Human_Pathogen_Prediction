{
 "cells": [
  {
   "cell_type": "raw",
   "metadata": {},
   "source": [
    "---\n",
    "title: Model validation\n",
    "author: Huakai Hu\n",
    "format: html\n",
    "editor: visual\n",
    "---"
   ],
   "id": "3c6052f8"
  },
  {
   "cell_type": "markdown",
   "metadata": {},
   "source": [
    "# Extra Validation Set\n",
    "\n",
    "Load the required libraries\n"
   ],
   "id": "5ea0a60a"
  },
  {
   "cell_type": "code",
   "metadata": {
    "ExecuteTime": {
     "end_time": "2024-03-20T08:20:48.333395200Z",
     "start_time": "2024-03-20T08:20:45.813759400Z"
    }
   },
   "source": [
    "#| label: loading library\n",
    "\n",
    "from pathlib import Path\n",
    "import pandas as pd\n",
    "from sklearn.model_selection import train_test_split\n",
    "import xgboost as xgb"
   ],
   "id": "loading-library",
   "execution_count": 1,
   "outputs": []
  },
  {
   "cell_type": "markdown",
   "metadata": {},
   "source": [
    "## Combining Data\n"
   ],
   "id": "d3029b10"
  },
  {
   "cell_type": "code",
   "metadata": {
    "ExecuteTime": {
     "end_time": "2024-03-20T08:22:51.317747Z",
     "start_time": "2024-03-20T08:22:50.600235Z"
    }
   },
   "source": [
    "#| label: loading dataset\n",
    "\n",
    "# set the data path\n",
    "data_path = Path.cwd().parent/'datas'\n",
    "\n",
    "# Load all data\n",
    "df_all = pd.read_csv(data_path / 'seqs_anno.csv').set_index('Accession')\n",
    "\n",
    "# Load and filter remove_data\n",
    "cols_to_read = [\"Name\", \"Accession\", \"Release_Date\"]\n",
    "remove_data = pd.read_csv(data_path / 'arbovirus_cleaned.csv', usecols=cols_to_read)\n",
    "remove_data[\"Release_Date\"] = pd.to_datetime(remove_data[\"Release_Date\"], errors='coerce')\n",
    "accessions_after_2022 = remove_data[remove_data[\"Release_Date\"].dt.year >= 2022][\"Accession\"].tolist()\n",
    "\n",
    "# Filter vector after 2022\n",
    "df_1 = df_all[df_all.index.isin(accessions_after_2022) & (df_all[\"anno\"] == \"vector\")].iloc[:, list(range(0, 33)) + [36]]\n",
    "\n",
    "# Load eibi data\n",
    "eibi_all = pd.read_csv(data_path / 'seqs_eibi.tsv', sep='\\t', index_col=\"query\").iloc[:, list(range(6, 39))] \n",
    "\n",
    "# Concatenate\n",
    "vali_df = pd.concat([df_1, eibi_all], axis=0)\n",
    "\n",
    "vali_df = vali_df[~vali_df.index.duplicated(keep='first')].fillna(0)\n",
    "\n",
    "vali_df.head()"
   ],
   "id": "loading-dataset",
   "execution_count": 2,
   "outputs": [
    {
     "data": {
      "text/plain": "           disable_organ  cytotoxicity  degrade_ecm  induce_inflammation  \\\nNC_055408              0             0            0                    0   \nNC_055410              0             0            0                    0   \nNC_055409              0             0            0                    0   \nNC_055216              0             0            0                    0   \nNC_055217              0             0            0                    0   \n\n           bacterial_counter_signaling  viral_counter_signaling  \\\nNC_055408                            0                        0   \nNC_055410                            0                        0   \nNC_055409                            0                        0   \nNC_055216                            0                        0   \nNC_055217                            0                        0   \n\n           resist_complement  counter_immunoglobulin  plant_rna_silencing  \\\nNC_055408                  0                       0                    0   \nNC_055410                  0                       0                    0   \nNC_055409                  0                       0                    0   \nNC_055216                  0                       0                    0   \nNC_055217                  0                       0                    0   \n\n           resist_oxidative  ...  secreted_effector  antibiotic_resistance  \\\nNC_055408                 0  ...                  0                      0   \nNC_055410                 0  ...                  0                      0   \nNC_055409                 0  ...                  0                      0   \nNC_055216                 0  ...                  0                      0   \nNC_055217                 0  ...                  0                      0   \n\n           develop_in_host  nonviral_adhesion  secretion  toxin_synthase  \\\nNC_055408                0                  0          0               0   \nNC_055410                0                  0          0               0   \nNC_055409                0                  0          0               0   \nNC_055216                0                  0          0               0   \nNC_055217                0                  0          0               0   \n\n           viral_adhesion  virulence_regulator   size  homo_infected  \nNC_055408               0                    0    893            0.0  \nNC_055410               0                    0   4550            0.0  \nNC_055409               0                    0   6863            0.0  \nNC_055216               0                    0   4478            0.0  \nNC_055217               0                    0  11816            0.0  \n\n[5 rows x 34 columns]",
      "text/html": "<div>\n<style scoped>\n    .dataframe tbody tr th:only-of-type {\n        vertical-align: middle;\n    }\n\n    .dataframe tbody tr th {\n        vertical-align: top;\n    }\n\n    .dataframe thead th {\n        text-align: right;\n    }\n</style>\n<table border=\"1\" class=\"dataframe\">\n  <thead>\n    <tr style=\"text-align: right;\">\n      <th></th>\n      <th>disable_organ</th>\n      <th>cytotoxicity</th>\n      <th>degrade_ecm</th>\n      <th>induce_inflammation</th>\n      <th>bacterial_counter_signaling</th>\n      <th>viral_counter_signaling</th>\n      <th>resist_complement</th>\n      <th>counter_immunoglobulin</th>\n      <th>plant_rna_silencing</th>\n      <th>resist_oxidative</th>\n      <th>...</th>\n      <th>secreted_effector</th>\n      <th>antibiotic_resistance</th>\n      <th>develop_in_host</th>\n      <th>nonviral_adhesion</th>\n      <th>secretion</th>\n      <th>toxin_synthase</th>\n      <th>viral_adhesion</th>\n      <th>virulence_regulator</th>\n      <th>size</th>\n      <th>homo_infected</th>\n    </tr>\n  </thead>\n  <tbody>\n    <tr>\n      <th>NC_055408</th>\n      <td>0</td>\n      <td>0</td>\n      <td>0</td>\n      <td>0</td>\n      <td>0</td>\n      <td>0</td>\n      <td>0</td>\n      <td>0</td>\n      <td>0</td>\n      <td>0</td>\n      <td>...</td>\n      <td>0</td>\n      <td>0</td>\n      <td>0</td>\n      <td>0</td>\n      <td>0</td>\n      <td>0</td>\n      <td>0</td>\n      <td>0</td>\n      <td>893</td>\n      <td>0.0</td>\n    </tr>\n    <tr>\n      <th>NC_055410</th>\n      <td>0</td>\n      <td>0</td>\n      <td>0</td>\n      <td>0</td>\n      <td>0</td>\n      <td>0</td>\n      <td>0</td>\n      <td>0</td>\n      <td>0</td>\n      <td>0</td>\n      <td>...</td>\n      <td>0</td>\n      <td>0</td>\n      <td>0</td>\n      <td>0</td>\n      <td>0</td>\n      <td>0</td>\n      <td>0</td>\n      <td>0</td>\n      <td>4550</td>\n      <td>0.0</td>\n    </tr>\n    <tr>\n      <th>NC_055409</th>\n      <td>0</td>\n      <td>0</td>\n      <td>0</td>\n      <td>0</td>\n      <td>0</td>\n      <td>0</td>\n      <td>0</td>\n      <td>0</td>\n      <td>0</td>\n      <td>0</td>\n      <td>...</td>\n      <td>0</td>\n      <td>0</td>\n      <td>0</td>\n      <td>0</td>\n      <td>0</td>\n      <td>0</td>\n      <td>0</td>\n      <td>0</td>\n      <td>6863</td>\n      <td>0.0</td>\n    </tr>\n    <tr>\n      <th>NC_055216</th>\n      <td>0</td>\n      <td>0</td>\n      <td>0</td>\n      <td>0</td>\n      <td>0</td>\n      <td>0</td>\n      <td>0</td>\n      <td>0</td>\n      <td>0</td>\n      <td>0</td>\n      <td>...</td>\n      <td>0</td>\n      <td>0</td>\n      <td>0</td>\n      <td>0</td>\n      <td>0</td>\n      <td>0</td>\n      <td>0</td>\n      <td>0</td>\n      <td>4478</td>\n      <td>0.0</td>\n    </tr>\n    <tr>\n      <th>NC_055217</th>\n      <td>0</td>\n      <td>0</td>\n      <td>0</td>\n      <td>0</td>\n      <td>0</td>\n      <td>0</td>\n      <td>0</td>\n      <td>0</td>\n      <td>0</td>\n      <td>0</td>\n      <td>...</td>\n      <td>0</td>\n      <td>0</td>\n      <td>0</td>\n      <td>0</td>\n      <td>0</td>\n      <td>0</td>\n      <td>0</td>\n      <td>0</td>\n      <td>11816</td>\n      <td>0.0</td>\n    </tr>\n  </tbody>\n</table>\n<p>5 rows × 34 columns</p>\n</div>"
     },
     "execution_count": 2,
     "metadata": {},
     "output_type": "execute_result"
    }
   ]
  },
  {
   "cell_type": "markdown",
   "metadata": {},
   "source": [
    "## load model\n"
   ],
   "id": "a68abecb"
  },
  {
   "cell_type": "code",
   "metadata": {},
   "source": [
    "#| label: loading-xgb\n",
    "\n",
    "# set the data path\n",
    "model_path = Path.cwd().parent / 'models'\n",
    "\n",
    "model = xgb.Booster()\n",
    "model.load_model(model_path / \"XGB_cli.json\")"
   ],
   "id": "loading-xgb",
   "execution_count": null,
   "outputs": []
  },
  {
   "cell_type": "markdown",
   "metadata": {},
   "source": [
    "prediction\n"
   ],
   "id": "1c81eeee"
  },
  {
   "cell_type": "code",
   "metadata": {},
   "source": [
    "#| label: prediction\n",
    "\n",
    "vali_D = xgb.DMatrix(vali_df.iloc[:, : 33])\n",
    "\n",
    "vali_result = model.predict(vali_D)\n",
    "\n",
    "vali_result_pred = (model.predict(vali_D) > 0.2).astype(int)\n",
    "\n",
    "vali_result_pred_df = pd.DataFrame(vali_result_pred, columns=['Prediction'], index=vali_df.index)\n",
    "\n",
    "\n",
    "result = pd.concat([vali_df.iloc[:, [0] + [34]], vali_result_pred_df], axis=1)\n",
    "\n",
    "result"
   ],
   "id": "prediction",
   "execution_count": null,
   "outputs": []
  }
 ],
 "metadata": {
  "kernelspec": {
   "name": "python3",
   "language": "python",
   "display_name": "Python 3 (ipykernel)"
  }
 },
 "nbformat": 4,
 "nbformat_minor": 5
}
